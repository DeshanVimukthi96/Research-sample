{
 "cells": [
  {
   "cell_type": "code",
   "execution_count": 8,
   "id": "18690873",
   "metadata": {},
   "outputs": [],
   "source": [
    "import pandas as pd\n",
    "import numpy as np\n",
    "from sklearn.model_selection import train_test_split,cross_val_score,GridSearchCV,KFold\n",
    "from sklearn.linear_model import LogisticRegression\n",
    "from sklearn.ensemble import RandomForestClassifier\n",
    "from sklearn.impute import KNNImputer\n",
    "from sklearn.preprocessing import StandardScaler\n",
    "from sklearn.decomposition import PCA\n",
    "import seaborn as sns\n",
    "import matplotlib.pyplot as plt"
   ]
  },
  {
   "cell_type": "code",
   "execution_count": 3,
   "id": "22dba47d",
   "metadata": {},
   "outputs": [],
   "source": [
    "data=pd.read_csv(\"C:\\\\Users\\\\Dedshan Vimukthi\\\\Documents\\\\Dataset2\\\\ori_ckd.CSV\")"
   ]
  },
  {
   "cell_type": "code",
   "execution_count": 4,
   "id": "ddc5f969",
   "metadata": {},
   "outputs": [],
   "source": [
    "data.drop(\"id\",axis=1,inplace=True)"
   ]
  },
  {
   "cell_type": "code",
   "execution_count": 5,
   "id": "d56aece6",
   "metadata": {},
   "outputs": [],
   "source": [
    "new_data=pd.get_dummies(data,columns=[\"gender\",\"class\"],drop_first=True)"
   ]
  },
  {
   "cell_type": "code",
   "execution_count": 6,
   "id": "fa43a747",
   "metadata": {},
   "outputs": [],
   "source": [
    "data_num=new_data[[\"age\",\"weight\",\"cr\",\"cru\",\"al\",\"gl\",\"na\",\"ca\",\"k\",\"cl\",\"pr\",\"iron\",\"ua\",\"wbc\",\"rbc\",\"hg\",\"plt\"]]"
   ]
  },
  {
   "cell_type": "code",
   "execution_count": 9,
   "id": "ab04de33",
   "metadata": {},
   "outputs": [],
   "source": [
    "imputer = KNNImputer(n_neighbors=5)"
   ]
  },
  {
   "cell_type": "code",
   "execution_count": 10,
   "id": "c59916c7",
   "metadata": {},
   "outputs": [],
   "source": [
    "df = pd.DataFrame(imputer.fit_transform(data_num),columns = data_num.columns)"
   ]
  },
  {
   "cell_type": "code",
   "execution_count": 11,
   "id": "228fd373",
   "metadata": {},
   "outputs": [],
   "source": [
    "ssc=StandardScaler()"
   ]
  },
  {
   "cell_type": "code",
   "execution_count": 12,
   "id": "89c60e83",
   "metadata": {},
   "outputs": [],
   "source": [
    "sscnum=ssc.fit_transform(df)"
   ]
  },
  {
   "cell_type": "code",
   "execution_count": 13,
   "id": "d3a01438",
   "metadata": {},
   "outputs": [],
   "source": [
    "num_data=pd.DataFrame(sscnum,columns=[\"age\",\"weight\",\"cr\",\"cru\",\"al\",\"gl\",\"na\",\"ca\",\"k\",\"cl\",\"pr\",\"iron\",\"ua\",\"wbc\",\"rbc\",\"hg\",\"plt\"])"
   ]
  },
  {
   "cell_type": "code",
   "execution_count": 15,
   "id": "e88199f4",
   "metadata": {},
   "outputs": [
    {
     "data": {
      "text/plain": [
       "(406, 17)"
      ]
     },
     "execution_count": 15,
     "metadata": {},
     "output_type": "execute_result"
    }
   ],
   "source": [
    "num_data.shape"
   ]
  },
  {
   "cell_type": "code",
   "execution_count": 16,
   "id": "9b068440",
   "metadata": {},
   "outputs": [],
   "source": [
    "pc=PCA(n_components=17)"
   ]
  },
  {
   "cell_type": "code",
   "execution_count": 17,
   "id": "70a70da1",
   "metadata": {},
   "outputs": [
    {
     "data": {
      "text/plain": [
       "PCA(n_components=17)"
      ]
     },
     "execution_count": 17,
     "metadata": {},
     "output_type": "execute_result"
    }
   ],
   "source": [
    "pc.fit(num_data)"
   ]
  },
  {
   "cell_type": "code",
   "execution_count": 18,
   "id": "0a464102",
   "metadata": {},
   "outputs": [
    {
     "data": {
      "text/plain": [
       "array([4.1369528 , 1.65979082, 1.48128994, 1.3292441 , 1.16323027,\n",
       "       1.03965663, 0.90056692, 0.8405022 , 0.82294549, 0.76266302,\n",
       "       0.62331945, 0.55113268, 0.51681916, 0.46837805, 0.39764631,\n",
       "       0.17921489, 0.16862258])"
      ]
     },
     "execution_count": 18,
     "metadata": {},
     "output_type": "execute_result"
    }
   ],
   "source": [
    "pc.explained_variance_"
   ]
  },
  {
   "cell_type": "code",
   "execution_count": 19,
   "id": "5178aaad",
   "metadata": {},
   "outputs": [
    {
     "data": {
      "text/plain": [
       "array([0.24275078, 0.09739427, 0.08692008, 0.07799824, 0.06825677,\n",
       "       0.06100564, 0.05284405, 0.04931953, 0.04828933, 0.04475203,\n",
       "       0.03657554, 0.03233972, 0.03032625, 0.02748379, 0.02333335,\n",
       "       0.01051609, 0.00989454])"
      ]
     },
     "execution_count": 19,
     "metadata": {},
     "output_type": "execute_result"
    }
   ],
   "source": [
    "pc.explained_variance_ratio_"
   ]
  },
  {
   "cell_type": "code",
   "execution_count": 20,
   "id": "93edb973",
   "metadata": {},
   "outputs": [
    {
     "data": {
      "text/plain": [
       "array([0.24275078, 0.34014505, 0.42706514, 0.50506338, 0.57332016,\n",
       "       0.6343258 , 0.68716984, 0.73648937, 0.7847787 , 0.82953073,\n",
       "       0.86610627, 0.89844599, 0.92877223, 0.95625602, 0.97958937,\n",
       "       0.99010546, 1.        ])"
      ]
     },
     "execution_count": 20,
     "metadata": {},
     "output_type": "execute_result"
    }
   ],
   "source": [
    "pc.explained_variance_ratio_.cumsum()"
   ]
  },
  {
   "cell_type": "code",
   "execution_count": 24,
   "id": "91b3d804",
   "metadata": {},
   "outputs": [
    {
     "data": {
      "image/png": "[encoded data removed]",
      "text/plain": [
       "<Figure size 432x288 with 1 Axes>"
      ]
     },
     "metadata": {
      "needs_background": "light"
     },
     "output_type": "display_data"
    }
   ],
   "source": [
    "plt.plot(range(1,18),pc.explained_variance_,\"rx-\")\n",
    "plt.show()"
   ]
  },
  {
   "cell_type": "code",
   "execution_count": 25,
   "id": "c55ea3ed",
   "metadata": {},
   "outputs": [
    {
     "data": {
      "image/png": "[encoded data removed]",
      "text/plain": [
       "<Figure size 432x288 with 1 Axes>"
      ]
     },
     "metadata": {
      "needs_background": "light"
     },
     "output_type": "display_data"
    }
   ],
   "source": [
    "plt.plot(range(1,18),pc.explained_variance_.cumsum(),\"rx-\")\n",
    "plt.show()"
   ]
  },
  {
   "cell_type": "code",
   "execution_count": 27,
   "id": "ae264408",
   "metadata": {},
   "outputs": [],
   "source": [
    "pc_new=PCA(n_components=12)"
   ]
  },
  {
   "cell_type": "code",
   "execution_count": 28,
   "id": "10a59a50",
   "metadata": {},
   "outputs": [
    {
     "data": {
      "text/plain": [
       "array([[-0.28921068, -1.59724935,  2.18721912, ...,  0.18105137,\n",
       "         0.92518673, -0.07502964],\n",
       "       [ 0.20929546, -1.48278964,  4.06797145, ..., -1.11759606,\n",
       "        -0.99094669, -0.60725486],\n",
       "       [ 1.75253633,  0.18740389,  0.48302925, ...,  0.11225969,\n",
       "        -0.18675286, -1.03844024],\n",
       "       ...,\n",
       "       [ 1.31398117, -0.09833503,  1.00268952, ..., -2.11713511,\n",
       "        -0.11430483, -1.13323373],\n",
       "       [ 1.50104723, -2.51371341,  0.27848624, ..., -0.20680375,\n",
       "         0.38648484, -0.49886504],\n",
       "       [ 5.12685881,  0.21078622, -0.40557849, ..., -0.72579062,\n",
       "         0.37972205,  1.13704825]])"
      ]
     },
     "execution_count": 28,
     "metadata": {},
     "output_type": "execute_result"
    }
   ],
   "source": [
    "pc_new.fit_transform(num_data)"
   ]
  },
  {
   "cell_type": "code",
   "execution_count": null,
   "id": "06ecca4b",
   "metadata": {},
   "outputs": [],
   "source": []
  }
 ],
 "metadata": {
  "kernelspec": {
   "display_name": "Python 3",
   "language": "python",
   "name": "python3"
  },
  "language_info": {
   "codemirror_mode": {
    "name": "ipython",
    "version": 3
   },
   "file_extension": ".py",
   "mimetype": "text/x-python",
   "name": "python",
   "nbconvert_exporter": "python",
   "pygments_lexer": "ipython3",
   "version": "3.8.8"
  }
 },
 "nbformat": 4,
 "nbformat_minor": 5
}
